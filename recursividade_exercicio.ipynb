{
  "nbformat": 4,
  "nbformat_minor": 0,
  "metadata": {
    "colab": {
      "provenance": [],
      "authorship_tag": "ABX9TyMBlQ0nyCn+dv3l9hy5ONTD",
      "include_colab_link": true
    },
    "kernelspec": {
      "name": "python3",
      "display_name": "Python 3"
    },
    "language_info": {
      "name": "python"
    }
  },
  "cells": [
    {
      "cell_type": "markdown",
      "metadata": {
        "id": "view-in-github",
        "colab_type": "text"
      },
      "source": [
        "<a href=\"https://colab.research.google.com/github/robertifpb/AlgoritmosPY/blob/main/recursividade_exercicio.ipynb\" target=\"_parent\"><img src=\"https://colab.research.google.com/assets/colab-badge.svg\" alt=\"Open In Colab\"/></a>"
      ]
    },
    {
      "cell_type": "code",
      "execution_count": null,
      "metadata": {
        "id": "B1ssooM7tNJQ",
        "colab": {
          "base_uri": "https://localhost:8080/"
        },
        "outputId": "f89af454-fa24-4c23-9700-b0cb1a52353a"
      },
      "outputs": [
        {
          "output_type": "stream",
          "name": "stdout",
          "text": [
            "\n",
            "=== Lista 1000: ===\n",
            "\n",
            "  Tempo médio - Função Iterativa: 0.000020 segundos\n",
            "  Tempo médio - Função Recursiva: 0.000228 segundos\n",
            "\n",
            "=== Lista 5000: ===\n",
            "\n",
            "  Tempo médio - Função Iterativa: 0.000094 segundos\n",
            "  Tempo médio - Função Recursiva: 0.001587 segundos\n",
            "\n",
            "=== Lista 10000: ===\n",
            "\n",
            "  Tempo médio - Função Iterativa: 0.000192 segundos\n",
            "  Tempo médio - Função Recursiva: 0.002554 segundos\n"
          ]
        }
      ],
      "source": [
        "\n",
        "import random\n",
        "import time\n",
        "import sys\n",
        "\n",
        "\n",
        "def main():\n",
        "  sys.setrecursionlimit(20000)\n",
        "\n",
        "\n",
        "  lista1 = [random.randint(1, 100000) for _ in range(1000)]\n",
        "  lista2 = [random.randint(1, 100000) for _ in range(5000)]\n",
        "  lista3 = [random.randint(1, 100000) for _ in range(10000)]\n",
        "\n",
        "\n",
        "\n",
        "  def recursiva(lista, n):\n",
        "     if n == 0:\n",
        "         return lista[0]\n",
        "     maior_anterior = recursiva(lista, n-1)\n",
        "     return lista[n] if lista[n] > maior_anterior else maior_anterior\n",
        "\n",
        "\n",
        "  def interativa(lista):\n",
        "      maior = lista[0]\n",
        "\n",
        "\n",
        "      for elemento in lista:\n",
        "          if elemento > maior:\n",
        "             maior = elemento\n",
        "      return maior\n",
        "\n",
        "\n",
        "  def medir_tempo(funcao, *args, repeticoes=10):\n",
        "      tempos = []\n",
        "      for _ in range(repeticoes):\n",
        "          inicio = time.time()\n",
        "          funcao(*args)\n",
        "          final = time.time()\n",
        "          tempos.append(final - inicio)\n",
        "      return sum(tempos) / repeticoes\n",
        "\n",
        "  def resultado():\n",
        "    nomeListas = [lista1, lista2, lista3]\n",
        "    nomes = [\"Lista 1000\", \"Lista 5000\", \"Lista 10000\"]\n",
        "\n",
        "\n",
        "    for nomeL, lista in zip(nomes, nomeListas):\n",
        "        tempo_iter = medir_tempo(interativa, lista)\n",
        "        tempo_recu = medir_tempo(recursiva, lista, len(lista)-1)\n",
        "\n",
        "        print(\"\")\n",
        "        print(f\"=== {nomeL}: ===\")\n",
        "        print(\"\")\n",
        "        print(f\"  Tempo médio - Função Iterativa: {tempo_iter:.6f} segundos\")\n",
        "        print(f\"  Tempo médio - Função Recursiva: {tempo_recu:.6f} segundos\")\n",
        "\n",
        "  resultado()\n",
        "\n",
        "main()"
      ]
    }
  ]
}